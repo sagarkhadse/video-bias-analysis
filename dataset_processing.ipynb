{
 "metadata": {
  "language_info": {
   "codemirror_mode": {
    "name": "ipython",
    "version": 3
   },
   "file_extension": ".py",
   "mimetype": "text/x-python",
   "name": "python",
   "nbconvert_exporter": "python",
   "pygments_lexer": "ipython3",
   "version": "3.7.4-final"
  },
  "orig_nbformat": 2,
  "kernelspec": {
   "name": "python3",
   "display_name": "Python 3"
  }
 },
 "nbformat": 4,
 "nbformat_minor": 2,
 "cells": [
  {
   "cell_type": "code",
   "execution_count": 1,
   "metadata": {},
   "outputs": [],
   "source": [
    "import numpy as np\n",
    "import pandas as pd\n",
    "from tqdm import tqdm"
   ]
  },
  {
   "cell_type": "code",
   "execution_count": 2,
   "metadata": {},
   "outputs": [
    {
     "output_type": "stream",
     "name": "stdout",
     "text": [
      "Reading json dataset...\n"
     ]
    }
   ],
   "source": [
    "print('Reading json dataset...')\n",
    "data = pd.read_json('data/dataset.json')"
   ]
  },
  {
   "cell_type": "code",
   "execution_count": 20,
   "metadata": {
    "tags": []
   },
   "outputs": [
    {
     "output_type": "stream",
     "name": "stderr",
     "text": [
      "24it [00:00, 234.57it/s]Flattening the dataset...\n",
      "421it [00:01, 221.01it/s]\n"
     ]
    },
    {
     "output_type": "execute_result",
     "data": {
      "text/plain": [
       "   bias   youtube_id                                               nela  \\\n",
       "0  left  3FUgm3STcDw  {'title_subs': [0.026548672566400002, 228.0, 0...   \n",
       "1  left  uWOUsqB8IPo  {'title_subs': [0.0602409638554, 88.0, 0.01136...   \n",
       "2  left  R4fyH7sGDGs  {'title_subs': [0.00787401574803, 396.0, 0.012...   \n",
       "3  left  kRQmxKxAHQg  {'title_subs': [0.0125, 80.0, 0.0, 55.0, 0.087...   \n",
       "4  left  0mx0Fay8YpI  {'title_subs': [0.01, 207.0, 0.0, 51.690821256...   \n",
       "\n",
       "                                          open_smile  \n",
       "0  {'IS09_emotion': {'1': [0.0, 0.02901588, 1.210...  \n",
       "1  {'IS09_emotion': {'1': [0.0, 0.07521047, 0.000...  \n",
       "2  {'IS09_emotion': {'1': [0.0, 0.05582919, 0.002...  \n",
       "3  {'IS09_emotion': {'1': [0.0, 0.009473814, 0.00...  \n",
       "4  {'IS09_emotion': {'1': [0.0, 0.061815010000000...  "
      ],
      "text/html": "<div>\n<style scoped>\n    .dataframe tbody tr th:only-of-type {\n        vertical-align: middle;\n    }\n\n    .dataframe tbody tr th {\n        vertical-align: top;\n    }\n\n    .dataframe thead th {\n        text-align: right;\n    }\n</style>\n<table border=\"1\" class=\"dataframe\">\n  <thead>\n    <tr style=\"text-align: right;\">\n      <th></th>\n      <th>bias</th>\n      <th>youtube_id</th>\n      <th>nela</th>\n      <th>open_smile</th>\n    </tr>\n  </thead>\n  <tbody>\n    <tr>\n      <th>0</th>\n      <td>left</td>\n      <td>3FUgm3STcDw</td>\n      <td>{'title_subs': [0.026548672566400002, 228.0, 0...</td>\n      <td>{'IS09_emotion': {'1': [0.0, 0.02901588, 1.210...</td>\n    </tr>\n    <tr>\n      <th>1</th>\n      <td>left</td>\n      <td>uWOUsqB8IPo</td>\n      <td>{'title_subs': [0.0602409638554, 88.0, 0.01136...</td>\n      <td>{'IS09_emotion': {'1': [0.0, 0.07521047, 0.000...</td>\n    </tr>\n    <tr>\n      <th>2</th>\n      <td>left</td>\n      <td>R4fyH7sGDGs</td>\n      <td>{'title_subs': [0.00787401574803, 396.0, 0.012...</td>\n      <td>{'IS09_emotion': {'1': [0.0, 0.05582919, 0.002...</td>\n    </tr>\n    <tr>\n      <th>3</th>\n      <td>left</td>\n      <td>kRQmxKxAHQg</td>\n      <td>{'title_subs': [0.0125, 80.0, 0.0, 55.0, 0.087...</td>\n      <td>{'IS09_emotion': {'1': [0.0, 0.009473814, 0.00...</td>\n    </tr>\n    <tr>\n      <th>4</th>\n      <td>left</td>\n      <td>0mx0Fay8YpI</td>\n      <td>{'title_subs': [0.01, 207.0, 0.0, 51.690821256...</td>\n      <td>{'IS09_emotion': {'1': [0.0, 0.061815010000000...</td>\n    </tr>\n  </tbody>\n</table>\n</div>"
     },
     "metadata": {},
     "execution_count": 20
    }
   ],
   "source": [
    "videos = pd.DataFrame(columns=['bias', 'youtube_id', 'nela', 'open_smile'])\n",
    "print('Flattening the dataset...')\n",
    "for idx, row in tqdm(data.iterrows()):\n",
    "    bias = data['bias']\n",
    "    chnl_videos = pd.DataFrame.from_dict(row['videos'])\n",
    "    chnl_videos['bias'] = bias\n",
    "    # print(chnl_videos[['bias', 'youtube_id', 'open_smile', 'nela']].head())\n",
    "    videos = videos.append(chnl_videos[['bias', 'youtube_id', 'open_smile', 'nela']])\n",
    "\n",
    "videos.head()"
   ]
  },
  {
   "cell_type": "code",
   "execution_count": 31,
   "metadata": {},
   "outputs": [
    {
     "output_type": "stream",
     "name": "stderr",
     "text": [
      "3345it [00:25, 132.56it/s]\n"
     ]
    },
    {
     "output_type": "execute_result",
     "data": {
      "text/plain": [
       "   bias   youtube_id                                          nela_subs  \\\n",
       "0  left  3FUgm3STcDw  [0.026548672566400002, 228.0, 0.0, 43.85964912...   \n",
       "1  left  uWOUsqB8IPo  [0.0602409638554, 88.0, 0.0113636363636, 52.27...   \n",
       "2  left  R4fyH7sGDGs  [0.00787401574803, 396.0, 0.0126262626263, 47....   \n",
       "3  left  kRQmxKxAHQg  [0.0125, 80.0, 0.0, 55.0, 0.08750000000000001,...   \n",
       "4  left  0mx0Fay8YpI  [0.01, 207.0, 0.0, 51.690821256, 0.01932367149...   \n",
       "\n",
       "                                           nela_desc  \\\n",
       "0  [0.0666666666667, 134.0, 0.00746268656716, 28....   \n",
       "1  [0.026315789473700002, 46.0, 0.0, 26.086956521...   \n",
       "2  [0.0, 26.0, 0.0, 11.5384615385, 0.0, 0.0, 0.0,...   \n",
       "3  [0.0, 37.0, 0.0, 40.5405405405, 0.027027027026...   \n",
       "4  [0.0, 24.0, 0.0, 20.8333333333, 0.041666666666...   \n",
       "\n",
       "                                  open_smile_emotion  \\\n",
       "0  [0.0, 0.02901588, 1.2102310000000002e-05, 0.02...   \n",
       "1  [0.0, 0.07521047, 0.0002319989, 0.07497848, 85...   \n",
       "2  [0.0, 0.05582919, 0.002310781, 0.05351841, 900...   \n",
       "3  [0.0, 0.009473814, 0.0004224883, 0.009051326, ...   \n",
       "4  [0.0, 0.061815010000000004, 0.0001856862, 0.06...   \n",
       "\n",
       "                                    open_smile_trait  \n",
       "0  [0.0, 1.594319, 0.1108884, 0.6352705, 0.084156...  \n",
       "1  [0.0, 2.687539, 0.5691383, 0.6887107, 0.267387...  \n",
       "2  [0.0, 1.999892, 0.35671339999999996, 0.8390114...  \n",
       "3  [0.0, 0.6215084, 0.6813627, 0.505678, 0.150204...  \n",
       "4  [0.0, 2.4150169999999997, 0.08483634, 0.515030...  "
      ],
      "text/html": "<div>\n<style scoped>\n    .dataframe tbody tr th:only-of-type {\n        vertical-align: middle;\n    }\n\n    .dataframe tbody tr th {\n        vertical-align: top;\n    }\n\n    .dataframe thead th {\n        text-align: right;\n    }\n</style>\n<table border=\"1\" class=\"dataframe\">\n  <thead>\n    <tr style=\"text-align: right;\">\n      <th></th>\n      <th>bias</th>\n      <th>youtube_id</th>\n      <th>nela_subs</th>\n      <th>nela_desc</th>\n      <th>open_smile_emotion</th>\n      <th>open_smile_trait</th>\n    </tr>\n  </thead>\n  <tbody>\n    <tr>\n      <th>0</th>\n      <td>left</td>\n      <td>3FUgm3STcDw</td>\n      <td>[0.026548672566400002, 228.0, 0.0, 43.85964912...</td>\n      <td>[0.0666666666667, 134.0, 0.00746268656716, 28....</td>\n      <td>[0.0, 0.02901588, 1.2102310000000002e-05, 0.02...</td>\n      <td>[0.0, 1.594319, 0.1108884, 0.6352705, 0.084156...</td>\n    </tr>\n    <tr>\n      <th>1</th>\n      <td>left</td>\n      <td>uWOUsqB8IPo</td>\n      <td>[0.0602409638554, 88.0, 0.0113636363636, 52.27...</td>\n      <td>[0.026315789473700002, 46.0, 0.0, 26.086956521...</td>\n      <td>[0.0, 0.07521047, 0.0002319989, 0.07497848, 85...</td>\n      <td>[0.0, 2.687539, 0.5691383, 0.6887107, 0.267387...</td>\n    </tr>\n    <tr>\n      <th>2</th>\n      <td>left</td>\n      <td>R4fyH7sGDGs</td>\n      <td>[0.00787401574803, 396.0, 0.0126262626263, 47....</td>\n      <td>[0.0, 26.0, 0.0, 11.5384615385, 0.0, 0.0, 0.0,...</td>\n      <td>[0.0, 0.05582919, 0.002310781, 0.05351841, 900...</td>\n      <td>[0.0, 1.999892, 0.35671339999999996, 0.8390114...</td>\n    </tr>\n    <tr>\n      <th>3</th>\n      <td>left</td>\n      <td>kRQmxKxAHQg</td>\n      <td>[0.0125, 80.0, 0.0, 55.0, 0.08750000000000001,...</td>\n      <td>[0.0, 37.0, 0.0, 40.5405405405, 0.027027027026...</td>\n      <td>[0.0, 0.009473814, 0.0004224883, 0.009051326, ...</td>\n      <td>[0.0, 0.6215084, 0.6813627, 0.505678, 0.150204...</td>\n    </tr>\n    <tr>\n      <th>4</th>\n      <td>left</td>\n      <td>0mx0Fay8YpI</td>\n      <td>[0.01, 207.0, 0.0, 51.690821256, 0.01932367149...</td>\n      <td>[0.0, 24.0, 0.0, 20.8333333333, 0.041666666666...</td>\n      <td>[0.0, 0.061815010000000004, 0.0001856862, 0.06...</td>\n      <td>[0.0, 2.4150169999999997, 0.08483634, 0.515030...</td>\n    </tr>\n  </tbody>\n</table>\n</div>"
     },
     "metadata": {},
     "execution_count": 31
    }
   ],
   "source": [
    "features = pd.DataFrame(columns=['bias', 'youtube_id', 'nela_subs', 'nela_desc', 'open_smile_emotion', 'open_smile_trait'])\n",
    "for idx, row in tqdm(videos.iterrows()):\n",
    "    nela = pd.DataFrame.from_dict(row['nela'])\n",
    "    open_smile = pd.DataFrame.from_dict(row['open_smile'])\n",
    "    row['nela_subs'] = nela['title_subs'].to_list()\n",
    "    row['nela_desc'] = nela['title_description'].to_list()\n",
    "    row['open_smile_emotion'] = open_smile['IS09_emotion']['1']\n",
    "    row['open_smile_trait'] = open_smile['IS12_speaker_trait']['1']\n",
    "    features = features.append(row[['bias', 'youtube_id', 'nela_subs', 'nela_desc', 'open_smile_emotion', 'open_smile_trait']])\n",
    "features.head()"
   ]
  },
  {
   "cell_type": "code",
   "execution_count": 32,
   "metadata": {},
   "outputs": [],
   "source": [
    "features.to_csv('data/dataset_processed.csv')"
   ]
  },
  {
   "cell_type": "code",
   "execution_count": null,
   "metadata": {},
   "outputs": [],
   "source": []
  }
 ]
}